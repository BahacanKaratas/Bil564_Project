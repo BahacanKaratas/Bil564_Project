{
  "nbformat": 4,
  "nbformat_minor": 0,
  "metadata": {
    "colab": {
      "provenance": [],
      "machine_shape": "hm",
      "gpuType": "L4"
    },
    "kernelspec": {
      "name": "python3",
      "display_name": "Python 3"
    },
    "language_info": {
      "name": "python"
    },
    "accelerator": "GPU"
  },
  "cells": [
    {
      "cell_type": "code",
      "execution_count": 1,
      "metadata": {
        "id": "KzwFM6h4yW0A",
        "colab": {
          "base_uri": "https://localhost:8080/",
          "height": 160
        },
        "outputId": "4202d906-b0cf-4bc0-fd54-b9159c918229"
      },
      "outputs": [
        {
          "output_type": "stream",
          "name": "stdout",
          "text": [
            "Lütfen kaggle.json dosyanı yükle:\n"
          ]
        },
        {
          "output_type": "display_data",
          "data": {
            "text/plain": [
              "<IPython.core.display.HTML object>"
            ],
            "text/html": [
              "\n",
              "     <input type=\"file\" id=\"files-9aad0673-4759-465e-b485-93caabb31498\" name=\"files[]\" multiple disabled\n",
              "        style=\"border:none\" />\n",
              "     <output id=\"result-9aad0673-4759-465e-b485-93caabb31498\">\n",
              "      Upload widget is only available when the cell has been executed in the\n",
              "      current browser session. Please rerun this cell to enable.\n",
              "      </output>\n",
              "      <script>// Copyright 2017 Google LLC\n",
              "//\n",
              "// Licensed under the Apache License, Version 2.0 (the \"License\");\n",
              "// you may not use this file except in compliance with the License.\n",
              "// You may obtain a copy of the License at\n",
              "//\n",
              "//      http://www.apache.org/licenses/LICENSE-2.0\n",
              "//\n",
              "// Unless required by applicable law or agreed to in writing, software\n",
              "// distributed under the License is distributed on an \"AS IS\" BASIS,\n",
              "// WITHOUT WARRANTIES OR CONDITIONS OF ANY KIND, either express or implied.\n",
              "// See the License for the specific language governing permissions and\n",
              "// limitations under the License.\n",
              "\n",
              "/**\n",
              " * @fileoverview Helpers for google.colab Python module.\n",
              " */\n",
              "(function(scope) {\n",
              "function span(text, styleAttributes = {}) {\n",
              "  const element = document.createElement('span');\n",
              "  element.textContent = text;\n",
              "  for (const key of Object.keys(styleAttributes)) {\n",
              "    element.style[key] = styleAttributes[key];\n",
              "  }\n",
              "  return element;\n",
              "}\n",
              "\n",
              "// Max number of bytes which will be uploaded at a time.\n",
              "const MAX_PAYLOAD_SIZE = 100 * 1024;\n",
              "\n",
              "function _uploadFiles(inputId, outputId) {\n",
              "  const steps = uploadFilesStep(inputId, outputId);\n",
              "  const outputElement = document.getElementById(outputId);\n",
              "  // Cache steps on the outputElement to make it available for the next call\n",
              "  // to uploadFilesContinue from Python.\n",
              "  outputElement.steps = steps;\n",
              "\n",
              "  return _uploadFilesContinue(outputId);\n",
              "}\n",
              "\n",
              "// This is roughly an async generator (not supported in the browser yet),\n",
              "// where there are multiple asynchronous steps and the Python side is going\n",
              "// to poll for completion of each step.\n",
              "// This uses a Promise to block the python side on completion of each step,\n",
              "// then passes the result of the previous step as the input to the next step.\n",
              "function _uploadFilesContinue(outputId) {\n",
              "  const outputElement = document.getElementById(outputId);\n",
              "  const steps = outputElement.steps;\n",
              "\n",
              "  const next = steps.next(outputElement.lastPromiseValue);\n",
              "  return Promise.resolve(next.value.promise).then((value) => {\n",
              "    // Cache the last promise value to make it available to the next\n",
              "    // step of the generator.\n",
              "    outputElement.lastPromiseValue = value;\n",
              "    return next.value.response;\n",
              "  });\n",
              "}\n",
              "\n",
              "/**\n",
              " * Generator function which is called between each async step of the upload\n",
              " * process.\n",
              " * @param {string} inputId Element ID of the input file picker element.\n",
              " * @param {string} outputId Element ID of the output display.\n",
              " * @return {!Iterable<!Object>} Iterable of next steps.\n",
              " */\n",
              "function* uploadFilesStep(inputId, outputId) {\n",
              "  const inputElement = document.getElementById(inputId);\n",
              "  inputElement.disabled = false;\n",
              "\n",
              "  const outputElement = document.getElementById(outputId);\n",
              "  outputElement.innerHTML = '';\n",
              "\n",
              "  const pickedPromise = new Promise((resolve) => {\n",
              "    inputElement.addEventListener('change', (e) => {\n",
              "      resolve(e.target.files);\n",
              "    });\n",
              "  });\n",
              "\n",
              "  const cancel = document.createElement('button');\n",
              "  inputElement.parentElement.appendChild(cancel);\n",
              "  cancel.textContent = 'Cancel upload';\n",
              "  const cancelPromise = new Promise((resolve) => {\n",
              "    cancel.onclick = () => {\n",
              "      resolve(null);\n",
              "    };\n",
              "  });\n",
              "\n",
              "  // Wait for the user to pick the files.\n",
              "  const files = yield {\n",
              "    promise: Promise.race([pickedPromise, cancelPromise]),\n",
              "    response: {\n",
              "      action: 'starting',\n",
              "    }\n",
              "  };\n",
              "\n",
              "  cancel.remove();\n",
              "\n",
              "  // Disable the input element since further picks are not allowed.\n",
              "  inputElement.disabled = true;\n",
              "\n",
              "  if (!files) {\n",
              "    return {\n",
              "      response: {\n",
              "        action: 'complete',\n",
              "      }\n",
              "    };\n",
              "  }\n",
              "\n",
              "  for (const file of files) {\n",
              "    const li = document.createElement('li');\n",
              "    li.append(span(file.name, {fontWeight: 'bold'}));\n",
              "    li.append(span(\n",
              "        `(${file.type || 'n/a'}) - ${file.size} bytes, ` +\n",
              "        `last modified: ${\n",
              "            file.lastModifiedDate ? file.lastModifiedDate.toLocaleDateString() :\n",
              "                                    'n/a'} - `));\n",
              "    const percent = span('0% done');\n",
              "    li.appendChild(percent);\n",
              "\n",
              "    outputElement.appendChild(li);\n",
              "\n",
              "    const fileDataPromise = new Promise((resolve) => {\n",
              "      const reader = new FileReader();\n",
              "      reader.onload = (e) => {\n",
              "        resolve(e.target.result);\n",
              "      };\n",
              "      reader.readAsArrayBuffer(file);\n",
              "    });\n",
              "    // Wait for the data to be ready.\n",
              "    let fileData = yield {\n",
              "      promise: fileDataPromise,\n",
              "      response: {\n",
              "        action: 'continue',\n",
              "      }\n",
              "    };\n",
              "\n",
              "    // Use a chunked sending to avoid message size limits. See b/62115660.\n",
              "    let position = 0;\n",
              "    do {\n",
              "      const length = Math.min(fileData.byteLength - position, MAX_PAYLOAD_SIZE);\n",
              "      const chunk = new Uint8Array(fileData, position, length);\n",
              "      position += length;\n",
              "\n",
              "      const base64 = btoa(String.fromCharCode.apply(null, chunk));\n",
              "      yield {\n",
              "        response: {\n",
              "          action: 'append',\n",
              "          file: file.name,\n",
              "          data: base64,\n",
              "        },\n",
              "      };\n",
              "\n",
              "      let percentDone = fileData.byteLength === 0 ?\n",
              "          100 :\n",
              "          Math.round((position / fileData.byteLength) * 100);\n",
              "      percent.textContent = `${percentDone}% done`;\n",
              "\n",
              "    } while (position < fileData.byteLength);\n",
              "  }\n",
              "\n",
              "  // All done.\n",
              "  yield {\n",
              "    response: {\n",
              "      action: 'complete',\n",
              "    }\n",
              "  };\n",
              "}\n",
              "\n",
              "scope.google = scope.google || {};\n",
              "scope.google.colab = scope.google.colab || {};\n",
              "scope.google.colab._files = {\n",
              "  _uploadFiles,\n",
              "  _uploadFilesContinue,\n",
              "};\n",
              "})(self);\n",
              "</script> "
            ]
          },
          "metadata": {}
        },
        {
          "output_type": "stream",
          "name": "stdout",
          "text": [
            "Saving kaggle.json to kaggle.json\n",
            "Dataset URL: https://www.kaggle.com/datasets/hamdallak/the-iqothnccd-lung-cancer-dataset\n",
            "License(s): CC0-1.0\n",
            "Veri başarıyla indirildi ve çıkarıldı:\n",
            "'The IQ-OTHNCCD lung cancer dataset'\n"
          ]
        }
      ],
      "source": [
        "from google.colab import files\n",
        "import os, zipfile\n",
        "\n",
        "# 1. kaggle.json dosyasını yükle\n",
        "print(\"Lütfen kaggle.json dosyanı yükle:\")\n",
        "uploaded = files.upload()\n",
        "\n",
        "# 2. Kaggle API ayarları\n",
        "os.makedirs(\"/root/.kaggle\", exist_ok=True)\n",
        "with open(\"/root/.kaggle/kaggle.json\", \"wb\") as f:\n",
        "    f.write(uploaded[\"kaggle.json\"])\n",
        "os.chmod(\"/root/.kaggle/kaggle.json\", 600)\n",
        "\n",
        "# 3. Dataset'i indir (senin verdiğin path)\n",
        "!kaggle datasets download -d hamdallak/the-iqothnccd-lung-cancer-dataset\n",
        "\n",
        "# 4. Zip dosyasını çıkar\n",
        "with zipfile.ZipFile(\"the-iqothnccd-lung-cancer-dataset.zip\", 'r') as zip_ref:\n",
        "    zip_ref.extractall(\"lung_dataset\")\n",
        "\n",
        "# 5. Dosyaları listele\n",
        "print(\"Veri başarıyla indirildi ve çıkarıldı:\")\n",
        "!ls lung_dataset\n"
      ]
    },
    {
      "cell_type": "code",
      "source": [
        "from PIL import Image\n",
        "\n",
        "# Görsel işlemede kullanılacak sabitler\n",
        "img_width, img_height = 150, 150\n",
        "\n",
        "# Tekrar çalıştırılacak fonksiyon\n",
        "def load_images_from_folder(directory, class_index, limit=100):\n",
        "    images, labels = [], []\n",
        "    filenames = sorted(os.listdir(directory))\n",
        "    if limit: filenames = filenames[:limit]\n",
        "    for filename in filenames:\n",
        "        img = Image.open(os.path.join(directory, filename)).resize((img_width, img_height)).convert(\"RGB\")\n",
        "        img = np.array(img)\n",
        "        if len(img.shape) == 2:\n",
        "            img = np.stack([img] * 3, axis=-1)\n",
        "        img = img.astype(np.float32) / 255.0\n",
        "        images.append(img.flatten())\n",
        "        labels.append(class_index)\n",
        "    return images, labels"
      ],
      "metadata": {
        "id": "OynYbhGfdND2"
      },
      "execution_count": 3,
      "outputs": []
    },
    {
      "cell_type": "code",
      "source": [
        "# DÜZELTİLMİŞ BASE PATH\n",
        "from sklearn.manifold import TSNE\n",
        "\n",
        "base_path = \"/content/lung_dataset/The IQ-OTHNCCD lung cancer dataset\"\n",
        "\n",
        "# Sınıf klasörleri\n",
        "normal_path = os.path.join(base_path, \"Normal cases\")\n",
        "benign_path = os.path.join(base_path, \"Bengin cases\")\n",
        "malignant_path = os.path.join(base_path, \"Malignant cases\")\n",
        "\n",
        "# Tekrar veri oku\n",
        "normal_imgs, normal_labels = load_images_from_folder(normal_path, 0)\n",
        "benign_imgs, benign_labels = load_images_from_folder(benign_path, 1)\n",
        "malignant_imgs, malignant_labels = load_images_from_folder(malignant_path, 2)\n",
        "\n",
        "# Birleştir\n",
        "X_real = np.array(normal_imgs + benign_imgs + malignant_imgs)\n",
        "y_real = np.array(normal_labels + benign_labels + malignant_labels)\n",
        "\n",
        "# Boyut indirgeme (t-SNE)\n",
        "tsne_real = TSNE(n_components=2, perplexity=30, n_iter=500, random_state=42)\n",
        "X_tsne = tsne_real.fit_transform(X_real)\n",
        "\n",
        "# Görselleştir\n",
        "plt.figure(figsize=(8, 6))\n",
        "colors = ['green', 'orange', 'red']\n",
        "labels = ['Normal', 'Benign', 'Malignant']\n",
        "\n",
        "for class_idx in range(3):\n",
        "    plt.scatter(X_tsne[y_real == class_idx, 0], X_tsne[y_real == class_idx, 1],\n",
        "                c=colors[class_idx], label=labels[class_idx], alpha=0.7)\n",
        "\n",
        "plt.legend()\n",
        "plt.title(\"Gerçek Görüntüler Üzerinde t-SNE Kümeleşme Analizi\")\n",
        "plt.xlabel(\"Bileşen 1\")\n",
        "plt.ylabel(\"Bileşen 2\")\n",
        "plt.tight_layout()\n",
        "tsne_output_path = \"/mnt/data/tsne_real_cluster.png\"\n",
        "\n",
        "plt.show()\n",
        "\n",
        "tsne_output_path\n"
      ],
      "metadata": {
        "colab": {
          "base_uri": "https://localhost:8080/",
          "height": 680
        },
        "id": "nwy1OYNYdG4p",
        "outputId": "4b020f54-628c-4951-c874-11b3521bfd58"
      },
      "execution_count": 6,
      "outputs": [
        {
          "output_type": "stream",
          "name": "stderr",
          "text": [
            "/usr/local/lib/python3.11/dist-packages/sklearn/manifold/_t_sne.py:1164: FutureWarning: 'n_iter' was renamed to 'max_iter' in version 1.5 and will be removed in 1.7.\n",
            "  warnings.warn(\n"
          ]
        },
        {
          "output_type": "display_data",
          "data": {
            "text/plain": [
              "<Figure size 800x600 with 1 Axes>"
            ],
            "image/png": "[encoded data removed]"
          },
          "metadata": {}
        },
        {
          "output_type": "execute_result",
          "data": {
            "text/plain": [
              "'/mnt/data/tsne_real_cluster.png'"
            ],
            "application/vnd.google.colaboratory.intrinsic+json": {
              "type": "string"
            }
          },
          "metadata": {},
          "execution_count": 6
        }
      ]
    },
    {
      "cell_type": "code",
      "source": [
        "import matplotlib.pyplot as plt\n",
        "import numpy as np\n",
        "import tensorflow as tf\n",
        "from tensorflow.keras import layers\n",
        "from tensorflow.keras.utils import image_dataset_from_directory\n",
        "import os\n",
        "import imghdr\n",
        "import random\n",
        "from pathlib import Path\n",
        "import tensorflow as tf\n",
        "from tensorflow.keras.utils import image_dataset_from_directory\n",
        "from tensorflow.keras.layers import Rescaling\n",
        "import tensorflow as tf\n",
        "from tensorflow.keras import layers\n",
        "import tensorflow as tf\n",
        "from tensorflow.keras import layers\n",
        "import tensorflow as tf\n",
        "import matplotlib.pyplot as plt\n",
        "import random\n",
        "import numpy as np\n",
        "import numpy as np\n",
        "import tensorflow as tf\n",
        "import numpy as np\n",
        "from tensorflow.keras.models import load_model\n",
        "import matplotlib.pyplot as plt\n",
        "import os\n",
        "import matplotlib.pyplot as plt\n",
        "import os\n",
        "import random\n",
        "from PIL import Image\n",
        "import tensorflow as tf\n",
        "from tensorflow.keras.models import Sequential\n",
        "from tensorflow.keras.layers import Conv2D, MaxPooling2D, Flatten, Dense, Dropout\n",
        "from tensorflow.keras.optimizers import Adam\n",
        "from tensorflow.keras.preprocessing.image import ImageDataGenerator\n",
        "import numpy as np\n",
        "import os\n",
        "from PIL import Image\n",
        "from tensorflow.keras.utils import to_categorical\n",
        "from sklearn.model_selection import train_test_split\n",
        "from tensorflow.keras.models import Sequential\n",
        "from tensorflow.keras.layers import Conv2D, MaxPooling2D, Flatten, Dense, Dropout, BatchNormalization, GlobalAveragePooling2D\n",
        "from tensorflow.keras.optimizers import Adam\n",
        "from tensorflow.keras.models import load_model\n",
        "import numpy as np\n",
        "import matplotlib.pyplot as plt\n",
        "\n",
        "\n"
      ],
      "metadata": {
        "id": "U6QSJ4JU0_hC",
        "colab": {
          "base_uri": "https://localhost:8080/"
        },
        "outputId": "c8f64b13-53ef-45f0-82a9-20cd737b222e"
      },
      "execution_count": 5,
      "outputs": [
        {
          "output_type": "stream",
          "name": "stderr",
          "text": [
            "<ipython-input-5-85202fa5e6b6>:7: DeprecationWarning: 'imghdr' is deprecated and slated for removal in Python 3.13\n",
            "  import imghdr\n"
          ]
        }
      ]
    },
    {
      "cell_type": "code",
      "source": [
        "dataset_path = Path(\"/content/lung_dataset/The IQ-OTHNCCD lung cancer dataset\")\n",
        "\n",
        "image_size = (128, 128)\n",
        "batch_size = 32\n",
        "seed = 123\n",
        "\n",
        "normalization_layer = Rescaling(1./127.5, offset=-1)\n",
        "def preprocess_image(image, label):\n",
        "    image = tf.cast(image, tf.float32)\n",
        "    image = normalization_layer(image)\n",
        "    return image, label\n",
        "\n",
        "raw_train_dataset = image_dataset_from_directory(\n",
        "    dataset_path,\n",
        "    validation_split=0.2,\n",
        "    subset=\"training\",\n",
        "    seed=seed,\n",
        "    image_size=image_size,\n",
        "    batch_size=batch_size\n",
        ")\n",
        "raw_val_dataset = image_dataset_from_directory(\n",
        "    dataset_path,\n",
        "    validation_split=0.2,\n",
        "    subset=\"validation\",\n",
        "    seed=seed,\n",
        "    image_size=image_size,\n",
        "    batch_size=batch_size\n",
        ")\n",
        "\n",
        "class_names = raw_train_dataset.class_names\n",
        "print(\"Sınıf İsimleri:\", class_names)\n",
        "\n",
        "train_dataset = (\n",
        "    raw_train_dataset\n",
        "    .map(preprocess_image, num_parallel_calls=tf.data.AUTOTUNE)\n",
        "    .shuffle(1000)\n",
        "    .cache()\n",
        "    .prefetch(buffer_size=tf.data.AUTOTUNE)\n",
        ")\n",
        "\n",
        "val_dataset = (\n",
        "    raw_val_dataset\n",
        "    .map(preprocess_image, num_parallel_calls=tf.data.AUTOTUNE)\n",
        "    .cache()\n",
        "    .prefetch(buffer_size=tf.data.AUTOTUNE)\n",
        ")\n",
        "\n",
        "label_to_index = {name: i for i, name in enumerate(class_names)}\n",
        "print(\"Etiket eşleşmeleri:\", label_to_index)\n",
        "\n",
        "\n",
        "def filter_by_class(dataset, class_index):\n",
        "    return dataset.filter(lambda img, label: tf.reduce_any(tf.equal(label, class_index)))\n",
        "\n",
        "train_dataset_benign = filter_by_class(train_dataset, label_to_index[\"Bengin cases\"])\n",
        "train_dataset_malignant = filter_by_class(train_dataset, label_to_index[\"Malignant cases\"])\n",
        "train_dataset_normal = filter_by_class(train_dataset, label_to_index[\"Normal cases\"])\n"
      ],
      "metadata": {
        "colab": {
          "base_uri": "https://localhost:8080/"
        },
        "id": "iOGms99u1ZZP",
        "outputId": "3183234d-3853-463a-acdf-bf119763890d"
      },
      "execution_count": 7,
      "outputs": [
        {
          "output_type": "stream",
          "name": "stdout",
          "text": [
            "Found 1097 files belonging to 3 classes.\n",
            "Using 878 files for training.\n",
            "Found 1097 files belonging to 3 classes.\n",
            "Using 219 files for validation.\n",
            "Sınıf İsimleri: ['Bengin cases', 'Malignant cases', 'Normal cases']\n",
            "Etiket eşleşmeleri: {'Bengin cases': 0, 'Malignant cases': 1, 'Normal cases': 2}\n"
          ]
        }
      ]
    },
    {
      "cell_type": "code",
      "source": [
        "import numpy as np\n",
        "import os\n",
        "from PIL import Image\n",
        "import matplotlib.pyplot as plt\n",
        "from tensorflow.keras.models import load_model\n",
        "\n",
        "# Modelleri yükle\n",
        "generator = load_model(\"gan_benign_generator.h5\")\n",
        "discriminator = load_model(\"gan_benign_discriminator.h5\")\n",
        "\n",
        "latent_dim = generator.input_shape[1]\n",
        "output_dir = \"generated_images_benign\"\n",
        "os.makedirs(output_dir, exist_ok=True)\n",
        "\n",
        "# Hedef görüntü sayısı\n",
        "target_count = 130\n",
        "generated = 0\n",
        "attempts = 0\n",
        "max_attempts = 20000  # güvenli limit\n",
        "\n",
        "# Eşik değeri\n",
        "confidence_threshold = 0.98\n",
        "\n",
        "print(f\"[INFO] Discriminator tabanlı filtreleme başlatıldı...\")\n",
        "\n",
        "while generated < target_count and attempts < max_attempts:\n",
        "    z = np.random.normal(0, 1, (1, latent_dim))\n",
        "    fake_img = generator.predict(z, verbose=0)\n",
        "\n",
        "    # Discriminator skoru hesapla\n",
        "    score = discriminator.predict(fake_img, verbose=0)[0][0]\n",
        "\n",
        "    if score >= confidence_threshold:\n",
        "        img = np.clip(fake_img[0], 0, 1)\n",
        "        img_uint8 = (img * 255).astype(np.uint8)\n",
        "\n",
        "        if img_uint8.shape[-1] == 1:\n",
        "            img_uint8 = img_uint8.squeeze(-1)\n",
        "\n",
        "        Image.fromarray(img_uint8).save(f\"{output_dir}/image_{generated+1:03d}.png\")\n",
        "        generated += 1\n",
        "\n",
        "    attempts += 1\n",
        "\n",
        "print(f\"[DONE] {generated} görüntü üretildi ({attempts} denemede).\")\n"
      ],
      "metadata": {
        "colab": {
          "base_uri": "https://localhost:8080/"
        },
        "id": "8u0CBje41ncH",
        "outputId": "26c2e4ec-aca7-4307-f5db-47b6ed0e9aaf"
      },
      "execution_count": 14,
      "outputs": [
        {
          "output_type": "stream",
          "name": "stderr",
          "text": [
            "WARNING:absl:No training configuration found in the save file, so the model was *not* compiled. Compile it manually.\n",
            "WARNING:absl:No training configuration found in the save file, so the model was *not* compiled. Compile it manually.\n"
          ]
        },
        {
          "output_type": "stream",
          "name": "stdout",
          "text": [
            "[INFO] Discriminator tabanlı filtreleme başlatıldı...\n",
            "[DONE] 130 görüntü üretildi (186 denemede).\n"
          ]
        }
      ]
    },
    {
      "cell_type": "code",
      "source": [
        "img_width, img_height = 150, 150\n",
        "real_data_path = \"/content/lung_dataset/The IQ-OTHNCCD lung cancer dataset\"\n",
        "gan_data_path = \"/content\"\n",
        "\n",
        "# Yükleme fonksiyonu (limit varsa sınırlı alır)\n",
        "def load_images_from_directory(directory, class_index, limit=None):\n",
        "    images, labels = [], []\n",
        "    filenames = os.listdir(directory)\n",
        "    if limit: filenames = filenames[:limit]\n",
        "    for filename in filenames:\n",
        "        img = Image.open(os.path.join(directory, filename)).resize((img_width, img_height)).convert(\"RGB\")\n",
        "        img = np.array(img)\n",
        "        if len(img.shape) == 2:\n",
        "            img = np.stack([img]*3, axis=-1)\n",
        "        images.append(img)\n",
        "        labels.append(class_index)\n",
        "    return images, labels\n"
      ],
      "metadata": {
        "id": "P0yE6R0672ES"
      },
      "execution_count": 15,
      "outputs": []
    },
    {
      "cell_type": "code",
      "source": [
        "# Verileri yükle (etiket dönüşümü burada yapılır)\n",
        "normal_images, normal_labels = load_images_from_directory(os.path.join(real_data_path, \"Normal cases\"), 0)\n",
        "benign_images, benign_labels = load_images_from_directory(os.path.join(real_data_path, \"Bengin cases\"), 1)\n",
        "malignant_images, malignant_labels = load_images_from_directory(os.path.join(real_data_path, \"Malignant cases\"), 1)\n",
        "\n",
        "# GAN verileri (yalnız benign ve normal var)\n",
        "generated_images_normal, _ = load_images_from_directory(os.path.join(gan_data_path, \"generated_images_normal\"), 0)\n",
        "generated_images_benign, _ = load_images_from_directory(os.path.join(gan_data_path, \"generated_images_benign\"), 1)\n"
      ],
      "metadata": {
        "id": "smVAGCjgNsjN"
      },
      "execution_count": 16,
      "outputs": []
    },
    {
      "cell_type": "code",
      "source": [
        "print(\"Normal toplam:\", len(normal_images))\n",
        "print(\"Benign toplam:\", len(benign_images))\n",
        "print(\"Malignant toplam:\", len(malignant_images))\n",
        "\n",
        "print(\"GAN normal:\", len(generated_images_normal))\n",
        "print(\"GAN benign:\", len(generated_images_benign))\n"
      ],
      "metadata": {
        "colab": {
          "base_uri": "https://localhost:8080/"
        },
        "id": "3RXS9NDd8Fbj",
        "outputId": "257dd955-864f-4f1a-944b-4d3d72a385d6"
      },
      "execution_count": 17,
      "outputs": [
        {
          "output_type": "stream",
          "name": "stdout",
          "text": [
            "Normal toplam: 416\n",
            "Benign toplam: 120\n",
            "Malignant toplam: 561\n",
            "GAN normal: 450\n",
            "GAN benign: 130\n"
          ]
        }
      ]
    },
    {
      "cell_type": "code",
      "source": [
        "from sklearn.model_selection import train_test_split\n",
        "\n",
        "def split_dataset(images, labels, train_ratio=0.6, val_ratio=0.2, test_ratio=0.2):\n",
        "    X_train, X_temp, y_train, y_temp = train_test_split(images, labels, test_size=(1-train_ratio), random_state=42, stratify=labels)\n",
        "    val_size = test_ratio / (val_ratio + test_ratio)  # val+test üzerinden test oranı\n",
        "    X_val, X_test, y_val, y_test = train_test_split(X_temp, y_temp, test_size=val_size, random_state=42, stratify=y_temp)\n",
        "    return X_train, y_train, X_val, y_val, X_test, y_test\n",
        "\n",
        "# 1. Etiketleri numpy olarak hazırla\n",
        "normal_labels = np.array([0] * len(normal_images))\n",
        "benign_labels = np.array([1] * len(benign_images))\n",
        "malignant_labels = np.array([1] * len(malignant_images))  # Benign + Malignant = Cancerous (1)\n",
        "\n",
        "# 2. Her sınıfı ayrı ayrı ayır\n",
        "Xn_train, yn_train, Xn_val, yn_val, Xn_test, yn_test = split_dataset(np.array(normal_images), normal_labels)\n",
        "Xb_train, yb_train, Xb_val, yb_val, Xb_test, yb_test = split_dataset(np.array(benign_images), benign_labels)\n",
        "Xm_train, ym_train, Xm_val, ym_val, Xm_test, ym_test = split_dataset(np.array(malignant_images), malignant_labels)\n",
        "\n",
        "# 3. Tüm verileri birleştir\n",
        "X_train_real = np.concatenate([Xn_train, Xb_train, Xm_train]) / 255.0\n",
        "y_train_real = np.concatenate([yn_train, yb_train, ym_train])\n",
        "\n",
        "X_val = np.concatenate([Xn_val, Xb_val, Xm_val]) / 255.0\n",
        "y_val = np.concatenate([yn_val, yb_val, ym_val])\n",
        "\n",
        "X_test = np.concatenate([Xn_test, Xb_test, Xm_test]) / 255.0\n",
        "y_test = np.concatenate([yn_test, yb_test, ym_test])\n",
        "\n",
        "# 4. GAN verisi (yalnızca eğitimde kullanılacak)\n",
        "X_gan = np.array(generated_images_normal + generated_images_benign) / 255.0\n",
        "y_gan = np.array([0] * len(generated_images_normal) + [1] * len(generated_images_benign))\n",
        "\n",
        "print(\"Eğitim seti:\", X_train_real.shape)\n",
        "print(\"Validation seti:\", X_val.shape)\n",
        "print(\"Test seti:\", X_test.shape)\n",
        "print(\"GAN seti:\", X_gan.shape)\n"
      ],
      "metadata": {
        "colab": {
          "base_uri": "https://localhost:8080/"
        },
        "id": "4ErL5rzG7ujy",
        "outputId": "4a1dac62-7e00-4cd9-8187-8b7fab2bb12e"
      },
      "execution_count": 18,
      "outputs": [
        {
          "output_type": "stream",
          "name": "stdout",
          "text": [
            "Eğitim seti: (657, 150, 150, 3)\n",
            "Validation seti: (219, 150, 150, 3)\n",
            "Test seti: (221, 150, 150, 3)\n",
            "GAN seti: (580, 150, 150, 3)\n"
          ]
        }
      ]
    },
    {
      "cell_type": "code",
      "source": [
        "from sklearn.metrics import accuracy_score, precision_score, recall_score, f1_score, roc_curve\n",
        "from sklearn.utils import shuffle\n",
        "from sklearn.model_selection import train_test_split\n",
        "from tqdm import tqdm\n",
        "import numpy as np\n",
        "import tensorflow as tf\n",
        "from tensorflow.keras.models import Sequential\n",
        "from tensorflow.keras.layers import Conv2D, MaxPooling2D, Dense, Dropout, BatchNormalization, GlobalAveragePooling2D, ReLU\n",
        "from tensorflow.keras.optimizers import Adam\n",
        "\n",
        "def build_model():\n",
        "    model = Sequential([\n",
        "        Conv2D(64, (3, 3), padding='same', input_shape=(150, 150, 3)),\n",
        "        BatchNormalization(), ReLU(), MaxPooling2D(2, 2),\n",
        "        Conv2D(128, (3, 3), padding='same'), BatchNormalization(), ReLU(), MaxPooling2D(2, 2),\n",
        "        Conv2D(256, (3, 3), padding='same'), BatchNormalization(), ReLU(), MaxPooling2D(2, 2),\n",
        "        Conv2D(512, (3, 3), padding='same'), BatchNormalization(), ReLU(), MaxPooling2D(2, 2),\n",
        "        GlobalAveragePooling2D(), Dense(512, activation='relu'), Dropout(0.5),\n",
        "        Dense(1, activation='sigmoid')\n",
        "    ])\n",
        "    model.compile(optimizer=Adam(1e-4), loss='binary_crossentropy', metrics=['accuracy'])\n",
        "    return model\n",
        "\n",
        "def find_best_threshold(y_true, y_probs):\n",
        "    fpr, tpr, thresholds = roc_curve(y_true, y_probs)\n",
        "    f1_scores = 2 * (tpr * (1 - fpr)) / (tpr + (1 - fpr) + 1e-8)\n",
        "    best_idx = np.argmax(f1_scores)\n",
        "    return thresholds[best_idx]\n",
        "\n",
        "def run_repeated_training(X_train_base, y_train_base, X_gan, y_gan, X_test, y_test, n_runs=10):\n",
        "    results_real = []\n",
        "    results_gan = []\n",
        "\n",
        "    best_f1_real = -1\n",
        "    best_f1_gan = -1\n",
        "    best_model_real = None\n",
        "    best_model_gan = None\n",
        "    best_threshold_real = 0.5\n",
        "    best_threshold_gan = 0.5\n",
        "\n",
        "    for run in tqdm(range(n_runs), desc=\"Modeller çalıştırılıyor\"):\n",
        "        X_base, y_base = shuffle(X_train_base, y_train_base, random_state=run)\n",
        "        X_train, X_val, y_train, y_val = train_test_split(X_base, y_base, test_size=0.25, random_state=run)\n",
        "\n",
        "        model_real = build_model()\n",
        "        model_real.fit(X_train, y_train, validation_data=(X_val, y_val), epochs=10, batch_size=32, verbose=0)\n",
        "        probs_real = model_real.predict(X_test).flatten()\n",
        "        threshold_real = find_best_threshold(y_test, probs_real)\n",
        "        y_pred_real = (probs_real >= threshold_real).astype(int)\n",
        "\n",
        "        acc_real = accuracy_score(y_test, y_pred_real)\n",
        "        prec_real = precision_score(y_test, y_pred_real)\n",
        "        rec_real = recall_score(y_test, y_pred_real)\n",
        "        f1_real = f1_score(y_test, y_pred_real)\n",
        "        results_real.append([acc_real, prec_real, rec_real, f1_real])\n",
        "\n",
        "        if f1_real > best_f1_real:\n",
        "            best_f1_real = f1_real\n",
        "            best_model_real = model_real\n",
        "            best_threshold_real = threshold_real\n",
        "\n",
        "        X_train_gan = np.concatenate([X_train, X_gan], axis=0)\n",
        "        y_train_gan = np.concatenate([y_train, y_gan], axis=0)\n",
        "        model_gan = build_model()\n",
        "        model_gan.fit(X_train_gan, y_train_gan, validation_data=(X_val, y_val), epochs=10, batch_size=32, verbose=0)\n",
        "        probs_gan = model_gan.predict(X_test).flatten()\n",
        "        threshold_gan = find_best_threshold(y_test, probs_gan)\n",
        "        y_pred_gan = (probs_gan >= threshold_gan).astype(int)\n",
        "\n",
        "        acc_gan = accuracy_score(y_test, y_pred_gan)\n",
        "        prec_gan = precision_score(y_test, y_pred_gan)\n",
        "        rec_gan = recall_score(y_test, y_pred_gan)\n",
        "        f1_gan = f1_score(y_test, y_pred_gan)\n",
        "        results_gan.append([acc_gan, prec_gan, rec_gan, f1_gan])\n",
        "\n",
        "        if f1_gan > best_f1_gan:\n",
        "            best_f1_gan = f1_gan\n",
        "            best_model_gan = model_gan\n",
        "            best_threshold_gan = threshold_gan\n",
        "\n",
        "    if best_model_real:\n",
        "        best_model_real.save(\"normal_model_best.h5\")\n",
        "        with open(\"normal_threshold.txt\", \"w\") as f:\n",
        "            f.write(str(best_threshold_real))\n",
        "\n",
        "    if best_model_gan:\n",
        "        best_model_gan.save(\"gan_model_best.h5\")\n",
        "        with open(\"gan_threshold.txt\", \"w\") as f:\n",
        "            f.write(str(best_threshold_gan))\n",
        "\n",
        "    return np.array(results_real), np.array(results_gan)\n",
        "\n",
        "real_metrics, gan_metrics = run_repeated_training(\n",
        "    X_train_real, y_train_real, X_gan, y_gan, X_test, y_test, n_runs=10\n",
        ")\n",
        "\n",
        "def print_summary(name, metrics):\n",
        "    print(f\"\\n {name} - Ortalamalar ve Standart Sapma:\")\n",
        "    print(f\"Accuracy :  {metrics[:,0].mean():.4f} ± {metrics[:,0].std():.4f}\")\n",
        "    print(f\"Precision:  {metrics[:,1].mean():.4f} ± {metrics[:,1].std():.4f}\")\n",
        "    print(f\"Recall   :  {metrics[:,2].mean():.4f} ± {metrics[:,2].std():.4f}\")\n",
        "    print(f\"F1 Score :  {metrics[:,3].mean():.4f} ± {metrics[:,3].std():.4f}\")\n",
        "\n",
        "print_summary(\"Normal CNN\", real_metrics)\n",
        "print_summary(\"GAN Destekli CNN\", gan_metrics)\n"
      ],
      "metadata": {
        "colab": {
          "base_uri": "https://localhost:8080/"
        },
        "id": "oZMon_Gi3uhV",
        "outputId": "86731175-6ca7-47c0-df26-4d9e4351c287"
      },
      "execution_count": 19,
      "outputs": [
        {
          "output_type": "stream",
          "name": "stderr",
          "text": [
            "\rModeller çalıştırılıyor:   0%|          | 0/10 [00:00<?, ?it/s]/usr/local/lib/python3.11/dist-packages/keras/src/layers/convolutional/base_conv.py:107: UserWarning: Do not pass an `input_shape`/`input_dim` argument to a layer. When using Sequential models, prefer using an `Input(shape)` object as the first layer in the model instead.\n",
            "  super().__init__(activity_regularizer=activity_regularizer, **kwargs)\n"
          ]
        },
        {
          "output_type": "stream",
          "name": "stdout",
          "text": [
            "\u001b[1m7/7\u001b[0m \u001b[32m━━━━━━━━━━━━━━━━━━━━\u001b[0m\u001b[37m\u001b[0m \u001b[1m4s\u001b[0m 480ms/step\n"
          ]
        },
        {
          "output_type": "stream",
          "name": "stderr",
          "text": [
            "/usr/local/lib/python3.11/dist-packages/keras/src/layers/convolutional/base_conv.py:107: UserWarning: Do not pass an `input_shape`/`input_dim` argument to a layer. When using Sequential models, prefer using an `Input(shape)` object as the first layer in the model instead.\n",
            "  super().__init__(activity_regularizer=activity_regularizer, **kwargs)\n"
          ]
        },
        {
          "output_type": "stream",
          "name": "stdout",
          "text": [
            "\u001b[1m7/7\u001b[0m \u001b[32m━━━━━━━━━━━━━━━━━━━━\u001b[0m\u001b[37m\u001b[0m \u001b[1m2s\u001b[0m 132ms/step\n"
          ]
        },
        {
          "output_type": "stream",
          "name": "stderr",
          "text": [
            "\rModeller çalıştırılıyor:  10%|█         | 1/10 [01:06<09:55, 66.18s/it]/usr/local/lib/python3.11/dist-packages/keras/src/layers/convolutional/base_conv.py:107: UserWarning: Do not pass an `input_shape`/`input_dim` argument to a layer. When using Sequential models, prefer using an `Input(shape)` object as the first layer in the model instead.\n",
            "  super().__init__(activity_regularizer=activity_regularizer, **kwargs)\n",
            "WARNING:tensorflow:5 out of the last 15 calls to <function TensorFlowTrainer.make_predict_function.<locals>.one_step_on_data_distributed at 0x793fac453c40> triggered tf.function retracing. Tracing is expensive and the excessive number of tracings could be due to (1) creating @tf.function repeatedly in a loop, (2) passing tensors with different shapes, (3) passing Python objects instead of tensors. For (1), please define your @tf.function outside of the loop. For (2), @tf.function has reduce_retracing=True option that can avoid unnecessary retracing. For (3), please refer to https://www.tensorflow.org/guide/function#controlling_retracing and https://www.tensorflow.org/api_docs/python/tf/function for  more details.\n"
          ]
        },
        {
          "output_type": "stream",
          "name": "stdout",
          "text": [
            "\u001b[1m7/7\u001b[0m \u001b[32m━━━━━━━━━━━━━━━━━━━━\u001b[0m\u001b[37m\u001b[0m \u001b[1m2s\u001b[0m 131ms/step\n"
          ]
        },
        {
          "output_type": "stream",
          "name": "stderr",
          "text": [
            "/usr/local/lib/python3.11/dist-packages/keras/src/layers/convolutional/base_conv.py:107: UserWarning: Do not pass an `input_shape`/`input_dim` argument to a layer. When using Sequential models, prefer using an `Input(shape)` object as the first layer in the model instead.\n",
            "  super().__init__(activity_regularizer=activity_regularizer, **kwargs)\n",
            "WARNING:tensorflow:5 out of the last 15 calls to <function TensorFlowTrainer.make_predict_function.<locals>.one_step_on_data_distributed at 0x793fa434d8a0> triggered tf.function retracing. Tracing is expensive and the excessive number of tracings could be due to (1) creating @tf.function repeatedly in a loop, (2) passing tensors with different shapes, (3) passing Python objects instead of tensors. For (1), please define your @tf.function outside of the loop. For (2), @tf.function has reduce_retracing=True option that can avoid unnecessary retracing. For (3), please refer to https://www.tensorflow.org/guide/function#controlling_retracing and https://www.tensorflow.org/api_docs/python/tf/function for  more details.\n"
          ]
        },
        {
          "output_type": "stream",
          "name": "stdout",
          "text": [
            "\u001b[1m7/7\u001b[0m \u001b[32m━━━━━━━━━━━━━━━━━━━━\u001b[0m\u001b[37m\u001b[0m \u001b[1m2s\u001b[0m 130ms/step\n"
          ]
        },
        {
          "output_type": "stream",
          "name": "stderr",
          "text": [
            "\rModeller çalıştırılıyor:  20%|██        | 2/10 [01:56<07:32, 56.59s/it]/usr/local/lib/python3.11/dist-packages/keras/src/layers/convolutional/base_conv.py:107: UserWarning: Do not pass an `input_shape`/`input_dim` argument to a layer. When using Sequential models, prefer using an `Input(shape)` object as the first layer in the model instead.\n",
            "  super().__init__(activity_regularizer=activity_regularizer, **kwargs)\n"
          ]
        },
        {
          "output_type": "stream",
          "name": "stdout",
          "text": [
            "\u001b[1m7/7\u001b[0m \u001b[32m━━━━━━━━━━━━━━━━━━━━\u001b[0m\u001b[37m\u001b[0m \u001b[1m2s\u001b[0m 135ms/step\n"
          ]
        },
        {
          "output_type": "stream",
          "name": "stderr",
          "text": [
            "/usr/local/lib/python3.11/dist-packages/keras/src/layers/convolutional/base_conv.py:107: UserWarning: Do not pass an `input_shape`/`input_dim` argument to a layer. When using Sequential models, prefer using an `Input(shape)` object as the first layer in the model instead.\n",
            "  super().__init__(activity_regularizer=activity_regularizer, **kwargs)\n"
          ]
        },
        {
          "output_type": "stream",
          "name": "stdout",
          "text": [
            "\u001b[1m7/7\u001b[0m \u001b[32m━━━━━━━━━━━━━━━━━━━━\u001b[0m\u001b[37m\u001b[0m \u001b[1m1s\u001b[0m 130ms/step\n"
          ]
        },
        {
          "output_type": "stream",
          "name": "stderr",
          "text": [
            "\rModeller çalıştırılıyor:  30%|███       | 3/10 [02:46<06:15, 53.69s/it]/usr/local/lib/python3.11/dist-packages/keras/src/layers/convolutional/base_conv.py:107: UserWarning: Do not pass an `input_shape`/`input_dim` argument to a layer. When using Sequential models, prefer using an `Input(shape)` object as the first layer in the model instead.\n",
            "  super().__init__(activity_regularizer=activity_regularizer, **kwargs)\n"
          ]
        },
        {
          "output_type": "stream",
          "name": "stdout",
          "text": [
            "\u001b[1m7/7\u001b[0m \u001b[32m━━━━━━━━━━━━━━━━━━━━\u001b[0m\u001b[37m\u001b[0m \u001b[1m1s\u001b[0m 130ms/step\n"
          ]
        },
        {
          "output_type": "stream",
          "name": "stderr",
          "text": [
            "/usr/local/lib/python3.11/dist-packages/keras/src/layers/convolutional/base_conv.py:107: UserWarning: Do not pass an `input_shape`/`input_dim` argument to a layer. When using Sequential models, prefer using an `Input(shape)` object as the first layer in the model instead.\n",
            "  super().__init__(activity_regularizer=activity_regularizer, **kwargs)\n"
          ]
        },
        {
          "output_type": "stream",
          "name": "stdout",
          "text": [
            "\u001b[1m7/7\u001b[0m \u001b[32m━━━━━━━━━━━━━━━━━━━━\u001b[0m\u001b[37m\u001b[0m \u001b[1m1s\u001b[0m 129ms/step\n"
          ]
        },
        {
          "output_type": "stream",
          "name": "stderr",
          "text": [
            "\rModeller çalıştırılıyor:  40%|████      | 4/10 [03:35<05:11, 51.94s/it]/usr/local/lib/python3.11/dist-packages/keras/src/layers/convolutional/base_conv.py:107: UserWarning: Do not pass an `input_shape`/`input_dim` argument to a layer. When using Sequential models, prefer using an `Input(shape)` object as the first layer in the model instead.\n",
            "  super().__init__(activity_regularizer=activity_regularizer, **kwargs)\n"
          ]
        },
        {
          "output_type": "stream",
          "name": "stdout",
          "text": [
            "\u001b[1m7/7\u001b[0m \u001b[32m━━━━━━━━━━━━━━━━━━━━\u001b[0m\u001b[37m\u001b[0m \u001b[1m2s\u001b[0m 132ms/step\n"
          ]
        },
        {
          "output_type": "stream",
          "name": "stderr",
          "text": [
            "/usr/local/lib/python3.11/dist-packages/keras/src/layers/convolutional/base_conv.py:107: UserWarning: Do not pass an `input_shape`/`input_dim` argument to a layer. When using Sequential models, prefer using an `Input(shape)` object as the first layer in the model instead.\n",
            "  super().__init__(activity_regularizer=activity_regularizer, **kwargs)\n"
          ]
        },
        {
          "output_type": "stream",
          "name": "stdout",
          "text": [
            "\u001b[1m7/7\u001b[0m \u001b[32m━━━━━━━━━━━━━━━━━━━━\u001b[0m\u001b[37m\u001b[0m \u001b[1m2s\u001b[0m 134ms/step\n"
          ]
        },
        {
          "output_type": "stream",
          "name": "stderr",
          "text": [
            "\rModeller çalıştırılıyor:  50%|█████     | 5/10 [04:24<04:14, 50.91s/it]/usr/local/lib/python3.11/dist-packages/keras/src/layers/convolutional/base_conv.py:107: UserWarning: Do not pass an `input_shape`/`input_dim` argument to a layer. When using Sequential models, prefer using an `Input(shape)` object as the first layer in the model instead.\n",
            "  super().__init__(activity_regularizer=activity_regularizer, **kwargs)\n"
          ]
        },
        {
          "output_type": "stream",
          "name": "stdout",
          "text": [
            "\u001b[1m7/7\u001b[0m \u001b[32m━━━━━━━━━━━━━━━━━━━━\u001b[0m\u001b[37m\u001b[0m \u001b[1m1s\u001b[0m 131ms/step\n"
          ]
        },
        {
          "output_type": "stream",
          "name": "stderr",
          "text": [
            "/usr/local/lib/python3.11/dist-packages/keras/src/layers/convolutional/base_conv.py:107: UserWarning: Do not pass an `input_shape`/`input_dim` argument to a layer. When using Sequential models, prefer using an `Input(shape)` object as the first layer in the model instead.\n",
            "  super().__init__(activity_regularizer=activity_regularizer, **kwargs)\n"
          ]
        },
        {
          "output_type": "stream",
          "name": "stdout",
          "text": [
            "\u001b[1m7/7\u001b[0m \u001b[32m━━━━━━━━━━━━━━━━━━━━\u001b[0m\u001b[37m\u001b[0m \u001b[1m2s\u001b[0m 131ms/step\n"
          ]
        },
        {
          "output_type": "stream",
          "name": "stderr",
          "text": [
            "\rModeller çalıştırılıyor:  60%|██████    | 6/10 [05:13<03:21, 50.31s/it]/usr/local/lib/python3.11/dist-packages/keras/src/layers/convolutional/base_conv.py:107: UserWarning: Do not pass an `input_shape`/`input_dim` argument to a layer. When using Sequential models, prefer using an `Input(shape)` object as the first layer in the model instead.\n",
            "  super().__init__(activity_regularizer=activity_regularizer, **kwargs)\n"
          ]
        },
        {
          "output_type": "stream",
          "name": "stdout",
          "text": [
            "\u001b[1m7/7\u001b[0m \u001b[32m━━━━━━━━━━━━━━━━━━━━\u001b[0m\u001b[37m\u001b[0m \u001b[1m2s\u001b[0m 131ms/step\n"
          ]
        },
        {
          "output_type": "stream",
          "name": "stderr",
          "text": [
            "/usr/local/lib/python3.11/dist-packages/keras/src/layers/convolutional/base_conv.py:107: UserWarning: Do not pass an `input_shape`/`input_dim` argument to a layer. When using Sequential models, prefer using an `Input(shape)` object as the first layer in the model instead.\n",
            "  super().__init__(activity_regularizer=activity_regularizer, **kwargs)\n"
          ]
        },
        {
          "output_type": "stream",
          "name": "stdout",
          "text": [
            "\u001b[1m7/7\u001b[0m \u001b[32m━━━━━━━━━━━━━━━━━━━━\u001b[0m\u001b[37m\u001b[0m \u001b[1m1s\u001b[0m 132ms/step\n"
          ]
        },
        {
          "output_type": "stream",
          "name": "stderr",
          "text": [
            "\rModeller çalıştırılıyor:  70%|███████   | 7/10 [06:02<02:29, 49.72s/it]/usr/local/lib/python3.11/dist-packages/keras/src/layers/convolutional/base_conv.py:107: UserWarning: Do not pass an `input_shape`/`input_dim` argument to a layer. When using Sequential models, prefer using an `Input(shape)` object as the first layer in the model instead.\n",
            "  super().__init__(activity_regularizer=activity_regularizer, **kwargs)\n"
          ]
        },
        {
          "output_type": "stream",
          "name": "stdout",
          "text": [
            "\u001b[1m7/7\u001b[0m \u001b[32m━━━━━━━━━━━━━━━━━━━━\u001b[0m\u001b[37m\u001b[0m \u001b[1m1s\u001b[0m 129ms/step\n"
          ]
        },
        {
          "output_type": "stream",
          "name": "stderr",
          "text": [
            "/usr/local/lib/python3.11/dist-packages/keras/src/layers/convolutional/base_conv.py:107: UserWarning: Do not pass an `input_shape`/`input_dim` argument to a layer. When using Sequential models, prefer using an `Input(shape)` object as the first layer in the model instead.\n",
            "  super().__init__(activity_regularizer=activity_regularizer, **kwargs)\n"
          ]
        },
        {
          "output_type": "stream",
          "name": "stdout",
          "text": [
            "\u001b[1m7/7\u001b[0m \u001b[32m━━━━━━━━━━━━━━━━━━━━\u001b[0m\u001b[37m\u001b[0m \u001b[1m2s\u001b[0m 134ms/step\n"
          ]
        },
        {
          "output_type": "stream",
          "name": "stderr",
          "text": [
            "\rModeller çalıştırılıyor:  80%|████████  | 8/10 [06:51<01:38, 49.42s/it]/usr/local/lib/python3.11/dist-packages/keras/src/layers/convolutional/base_conv.py:107: UserWarning: Do not pass an `input_shape`/`input_dim` argument to a layer. When using Sequential models, prefer using an `Input(shape)` object as the first layer in the model instead.\n",
            "  super().__init__(activity_regularizer=activity_regularizer, **kwargs)\n"
          ]
        },
        {
          "output_type": "stream",
          "name": "stdout",
          "text": [
            "\u001b[1m7/7\u001b[0m \u001b[32m━━━━━━━━━━━━━━━━━━━━\u001b[0m\u001b[37m\u001b[0m \u001b[1m1s\u001b[0m 129ms/step\n"
          ]
        },
        {
          "output_type": "stream",
          "name": "stderr",
          "text": [
            "/usr/local/lib/python3.11/dist-packages/keras/src/layers/convolutional/base_conv.py:107: UserWarning: Do not pass an `input_shape`/`input_dim` argument to a layer. When using Sequential models, prefer using an `Input(shape)` object as the first layer in the model instead.\n",
            "  super().__init__(activity_regularizer=activity_regularizer, **kwargs)\n"
          ]
        },
        {
          "output_type": "stream",
          "name": "stdout",
          "text": [
            "\u001b[1m7/7\u001b[0m \u001b[32m━━━━━━━━━━━━━━━━━━━━\u001b[0m\u001b[37m\u001b[0m \u001b[1m2s\u001b[0m 132ms/step\n"
          ]
        },
        {
          "output_type": "stream",
          "name": "stderr",
          "text": [
            "\rModeller çalıştırılıyor:  90%|█████████ | 9/10 [07:38<00:48, 48.93s/it]/usr/local/lib/python3.11/dist-packages/keras/src/layers/convolutional/base_conv.py:107: UserWarning: Do not pass an `input_shape`/`input_dim` argument to a layer. When using Sequential models, prefer using an `Input(shape)` object as the first layer in the model instead.\n",
            "  super().__init__(activity_regularizer=activity_regularizer, **kwargs)\n"
          ]
        },
        {
          "output_type": "stream",
          "name": "stdout",
          "text": [
            "\u001b[1m7/7\u001b[0m \u001b[32m━━━━━━━━━━━━━━━━━━━━\u001b[0m\u001b[37m\u001b[0m \u001b[1m2s\u001b[0m 132ms/step\n"
          ]
        },
        {
          "output_type": "stream",
          "name": "stderr",
          "text": [
            "/usr/local/lib/python3.11/dist-packages/keras/src/layers/convolutional/base_conv.py:107: UserWarning: Do not pass an `input_shape`/`input_dim` argument to a layer. When using Sequential models, prefer using an `Input(shape)` object as the first layer in the model instead.\n",
            "  super().__init__(activity_regularizer=activity_regularizer, **kwargs)\n"
          ]
        },
        {
          "output_type": "stream",
          "name": "stdout",
          "text": [
            "\u001b[1m7/7\u001b[0m \u001b[32m━━━━━━━━━━━━━━━━━━━━\u001b[0m\u001b[37m\u001b[0m \u001b[1m2s\u001b[0m 131ms/step\n"
          ]
        },
        {
          "output_type": "stream",
          "name": "stderr",
          "text": [
            "Modeller çalıştırılıyor: 100%|██████████| 10/10 [08:28<00:00, 50.89s/it]\n",
            "WARNING:absl:You are saving your model as an HDF5 file via `model.save()` or `keras.saving.save_model(model)`. This file format is considered legacy. We recommend using instead the native Keras format, e.g. `model.save('my_model.keras')` or `keras.saving.save_model(model, 'my_model.keras')`. \n",
            "WARNING:absl:You are saving your model as an HDF5 file via `model.save()` or `keras.saving.save_model(model)`. This file format is considered legacy. We recommend using instead the native Keras format, e.g. `model.save('my_model.keras')` or `keras.saving.save_model(model, 'my_model.keras')`. \n"
          ]
        },
        {
          "output_type": "stream",
          "name": "stdout",
          "text": [
            "\n",
            " Normal CNN - Ortalamalar ve Standart Sapma:\n",
            "Accuracy :  0.6244 ± 0.0446\n",
            "Precision:  0.7359 ± 0.0409\n",
            "Recall   :  0.6161 ± 0.0607\n",
            "F1 Score :  0.6692 ± 0.0465\n",
            "\n",
            " GAN Destekli CNN - Ortalamalar ve Standart Sapma:\n",
            "Accuracy :  0.6986 ± 0.0650\n",
            "Precision:  0.7978 ± 0.0627\n",
            "Recall   :  0.6920 ± 0.0859\n",
            "F1 Score :  0.7382 ± 0.0621\n"
          ]
        }
      ]
    },
    {
      "cell_type": "code",
      "source": [
        "import matplotlib.pyplot as plt\n",
        "from sklearn.metrics import roc_curve, auc, confusion_matrix, ConfusionMatrixDisplay, classification_report\n",
        "from tensorflow.keras.models import load_model\n",
        "\n",
        "# Modelleri yükle\n",
        "normal_model = load_model(\"normal_model_best.h5\")\n",
        "gan_model = load_model(\"gan_model_best.h5\")\n",
        "\n",
        "# Eşik değerlerini oku\n",
        "with open(\"normal_threshold.txt\", \"r\") as f:\n",
        "    normal_thresh = float(f.read())\n",
        "with open(\"gan_threshold.txt\", \"r\") as f:\n",
        "    gan_thresh = float(f.read())\n",
        "\n",
        "# Tahminler\n",
        "y_probs_normal = normal_model.predict(X_test).ravel()\n",
        "y_probs_gan = gan_model.predict(X_test).ravel()\n",
        "\n",
        "y_pred_normal = (y_probs_normal >= normal_thresh).astype(int)\n",
        "y_pred_gan = (y_probs_gan >= gan_thresh).astype(int)\n",
        "\n",
        "# ROC\n",
        "fpr_normal, tpr_normal, _ = roc_curve(y_test, y_probs_normal)\n",
        "fpr_gan, tpr_gan, _ = roc_curve(y_test, y_probs_gan)\n",
        "auc_normal = auc(fpr_normal, tpr_normal)\n",
        "auc_gan = auc(fpr_gan, tpr_gan)\n",
        "\n",
        "plt.figure(figsize=(8, 6))\n",
        "plt.plot(fpr_normal, tpr_normal, label=f'Normal CNN (AUC = {auc_normal:.2f})')\n",
        "plt.plot(fpr_gan, tpr_gan, label=f'GAN Destekli CNN (AUC = {auc_gan:.2f})')\n",
        "plt.plot([0, 1], [0, 1], 'k--')\n",
        "plt.xlabel(\"False Positive Rate\")\n",
        "plt.ylabel(\"True Positive Rate\")\n",
        "plt.title(\"ROC Eğrisi\")\n",
        "plt.legend(loc=\"lower right\")\n",
        "plt.grid()\n",
        "plt.tight_layout()\n",
        "plt.savefig(\"roc_best_models.png\", dpi=300)\n",
        "plt.show()\n",
        "\n",
        "# Confusion Matrix\n",
        "cm_normal = confusion_matrix(y_test, y_pred_normal)\n",
        "cm_gan = confusion_matrix(y_test, y_pred_gan)\n",
        "\n",
        "disp1 = ConfusionMatrixDisplay(cm_normal, display_labels=[\"Normal\", \"Kanserli\"])\n",
        "disp1.plot(cmap=\"Blues\")\n",
        "plt.title(\"Confusion Matrix - Normal CNN\")\n",
        "plt.tight_layout()\n",
        "plt.savefig(\"cm_normal.png\", dpi=300)\n",
        "plt.show()\n",
        "\n",
        "disp2 = ConfusionMatrixDisplay(cm_gan, display_labels=[\"Normal\", \"Kanserli\"])\n",
        "disp2.plot(cmap=\"Oranges\")\n",
        "plt.title(\"Confusion Matrix - GAN Destekli CNN\")\n",
        "plt.tight_layout()\n",
        "plt.savefig(\"cm_gan.png\", dpi=300)\n",
        "plt.show()\n",
        "\n",
        "# Classification Report\n",
        "print(\"Classification Report - Normal CNN\")\n",
        "print(classification_report(y_test, y_pred_normal, target_names=[\"Normal\", \"Kanserli\"]))\n",
        "print(\"\\nClassification Report - GAN Destekli CNN\")\n",
        "print(classification_report(y_test, y_pred_gan, target_names=[\"Normal\", \"Kanserli\"]))\n"
      ],
      "metadata": {
        "colab": {
          "base_uri": "https://localhost:8080/",
          "height": 1000
        },
        "id": "v6t-93QtJIoN",
        "outputId": "966c6986-cac5-4ac2-dede-b8bc39fc75d4"
      },
      "execution_count": 21,
      "outputs": [
        {
          "output_type": "stream",
          "name": "stderr",
          "text": [
            "WARNING:absl:Compiled the loaded model, but the compiled metrics have yet to be built. `model.compile_metrics` will be empty until you train or evaluate the model.\n",
            "WARNING:absl:Compiled the loaded model, but the compiled metrics have yet to be built. `model.compile_metrics` will be empty until you train or evaluate the model.\n"
          ]
        },
        {
          "output_type": "stream",
          "name": "stdout",
          "text": [
            "\u001b[1m7/7\u001b[0m \u001b[32m━━━━━━━━━━━━━━━━━━━━\u001b[0m\u001b[37m\u001b[0m \u001b[1m2s\u001b[0m 131ms/step\n",
            "\u001b[1m7/7\u001b[0m \u001b[32m━━━━━━━━━━━━━━━━━━━━\u001b[0m\u001b[37m\u001b[0m \u001b[1m1s\u001b[0m 129ms/step\n"
          ]
        },
        {
          "output_type": "display_data",
          "data": {
            "text/plain": [
              "<Figure size 800x600 with 1 Axes>"
            ],
            "image/png": "[encoded data removed]"
          },
          "metadata": {}
        },
        {
          "output_type": "display_data",
          "data": {
            "text/plain": [
              "<Figure size 640x480 with 2 Axes>"
            ],
            "image/png": "[encoded data removed]"
          },
          "metadata": {}
        },
        {
          "output_type": "display_data",
          "data": {
            "text/plain": [
              "<Figure size 640x480 with 2 Axes>"
            ],
            "image/png": "[encoded data removed]"
          },
          "metadata": {}
        },
        {
          "output_type": "stream",
          "name": "stdout",
          "text": [
            "Classification Report - Normal CNN\n",
            "              precision    recall  f1-score   support\n",
            "\n",
            "      Normal       0.58      0.73      0.65        84\n",
            "    Kanserli       0.80      0.68      0.74       137\n",
            "\n",
            "    accuracy                           0.70       221\n",
            "   macro avg       0.69      0.70      0.69       221\n",
            "weighted avg       0.72      0.70      0.70       221\n",
            "\n",
            "\n",
            "Classification Report - GAN Destekli CNN\n",
            "              precision    recall  f1-score   support\n",
            "\n",
            "      Normal       0.74      0.76      0.75        84\n",
            "    Kanserli       0.85      0.84      0.85       137\n",
            "\n",
            "    accuracy                           0.81       221\n",
            "   macro avg       0.80      0.80      0.80       221\n",
            "weighted avg       0.81      0.81      0.81       221\n",
            "\n"
          ]
        }
      ]
    }
  ]
}